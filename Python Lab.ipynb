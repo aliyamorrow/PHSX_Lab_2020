{
 "cells": [
  {
   "cell_type": "code",
   "execution_count": null,
   "metadata": {},
   "outputs": [],
   "source": [
    "# Python Functions:"
   ]
  },
  {
   "cell_type": "code",
   "execution_count": 13,
   "metadata": {},
   "outputs": [],
   "source": [
    "# Rule 1 "
   ]
  },
  {
   "cell_type": "markdown",
   "metadata": {},
   "source": [
    "$\\delta Q= \\delta A$"
   ]
  },
  {
   "cell_type": "code",
   "execution_count": null,
   "metadata": {},
   "outputs": [],
   "source": [
    "# Rule 2"
   ]
  },
  {
   "cell_type": "markdown",
   "metadata": {},
   "source": [
    "$\\delta Q= *m (\\delta A)$"
   ]
  },
  {
   "cell_type": "code",
   "execution_count": null,
   "metadata": {},
   "outputs": [],
   "source": [
    "# Rule 3"
   ]
  },
  {
   "cell_type": "markdown",
   "metadata": {},
   "source": [
    "$\\delta Q= \\sqrt((\\delta A)^2 + (\\delta B)^2)$"
   ]
  },
  {
   "cell_type": "markdown",
   "metadata": {},
   "source": [
    "$\\delta Q= \\sqrt((m*\\delta A)^2 + (n*\\delta B)^2)$"
   ]
  },
  {
   "cell_type": "code",
   "execution_count": 18,
   "metadata": {},
   "outputs": [
    {
     "name": "stdout",
     "output_type": "stream",
     "text": [
      "89.56175294784302\n"
     ]
    }
   ],
   "source": [
    "def rule4(Q, power1, A, eA, power2, B, eB):\n",
    "    eQ= Q*np.sqrt(((power1*eA/A))**2+(power2*eB/B)**2)\n",
    "    return eQ\n",
    "Q= 814.19\n",
    "power1= 1\n",
    "power2= 1\n",
    "A= 208.3\n",
    "eA= .1\n",
    "eB= 1.1\n",
    "B= 10\n",
    "eQ= rule4(Q, power1, A, eA, power2, B, eB)\n",
    "print(eQ)\n"
   ]
  },
  {
   "cell_type": "code",
   "execution_count": 19,
   "metadata": {},
   "outputs": [],
   "source": [
    "# The product on this platform and last week are the same value"
   ]
  },
  {
   "cell_type": "code",
   "execution_count": null,
   "metadata": {},
   "outputs": [],
   "source": [
    "# Using Python for Calculations:"
   ]
  },
  {
   "cell_type": "code",
   "execution_count": 20,
   "metadata": {},
   "outputs": [
    {
     "name": "stdout",
     "output_type": "stream",
     "text": [
      "The average of x is 1.12 and the standard deviation is 0.18\n"
     ]
    }
   ],
   "source": [
    "x = 1.1, 1.3, 1.4, 0.9, 0.95, 1.05\n",
    "avex= np.average(x)\n",
    "stdx= np.std(x)\n",
    "print(\"The average of x is %0.2f and the standard deviation is %0.2f\"%(avex, stdx))"
   ]
  },
  {
   "cell_type": "code",
   "execution_count": 21,
   "metadata": {},
   "outputs": [],
   "source": [
    "# LateX in Jupyter Notebook:"
   ]
  },
  {
   "cell_type": "markdown",
   "metadata": {},
   "source": [
    "$\\delta Q= \\sqrt((\\delta A)^2 + (\\delta B)^2)$"
   ]
  },
  {
   "cell_type": "markdown",
   "metadata": {},
   "source": [
    "$\\delta F_{c}=F_{c}*\\sqrt{(\\frac{\\delta slope}{slope})^2+ (\\frac{\\delta m}{m})^2}$"
   ]
  },
  {
   "cell_type": "code",
   "execution_count": null,
   "metadata": {},
   "outputs": [],
   "source": []
  }
 ],
 "metadata": {
  "kernelspec": {
   "display_name": "Python 3",
   "language": "python",
   "name": "python3"
  },
  "language_info": {
   "codemirror_mode": {
    "name": "ipython",
    "version": 3
   },
   "file_extension": ".py",
   "mimetype": "text/x-python",
   "name": "python",
   "nbconvert_exporter": "python",
   "pygments_lexer": "ipython3",
   "version": "3.8.3"
  }
 },
 "nbformat": 4,
 "nbformat_minor": 4
}
